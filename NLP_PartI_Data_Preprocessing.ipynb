{
 "cells": [
  {
   "cell_type": "markdown",
   "metadata": {
    "id": "zMSBBYMdqdHQ"
   },
   "source": [
    "# NLP Final Project Part I: Data Preprocessing\n",
    "\n",
    "\n"
   ]
  },
  {
   "cell_type": "code",
   "execution_count": null,
   "metadata": {
    "colab": {
     "base_uri": "https://localhost:8080/"
    },
    "executionInfo": {
     "elapsed": 16848,
     "status": "ok",
     "timestamp": 1669324222459,
     "user": {
      "displayName": "Naibo Hu",
      "userId": "05539525942778906817"
     },
     "user_tz": 360
    },
    "id": "Afp3j8_Uc-7h",
    "outputId": "735b0c34-774a-418b-f35e-62289218b7b9"
   },
   "outputs": [
    {
     "name": "stdout",
     "output_type": "stream",
     "text": [
      "Mounted at /content/drive\n"
     ]
    }
   ],
   "source": [
    "from google.colab import drive\n",
    "drive.mount('/content/drive')"
   ]
  },
  {
   "cell_type": "code",
   "execution_count": null,
   "metadata": {
    "id": "UiI3BIGShDyo"
   },
   "outputs": [],
   "source": [
    "import pandas as pd\n",
    "import re\n",
    "import warnings\n",
    "warnings.filterwarnings('ignore')\n"
   ]
  },
  {
   "cell_type": "code",
   "execution_count": null,
   "metadata": {
    "id": "a0Fq3pSqhPZE"
   },
   "outputs": [],
   "source": [
    "import os\n",
    "import time\n",
    "import math\n",
    "from pprint import pprint\n",
    "from textblob import TextBlob\n",
    "import pandas as pd\n",
    "import numpy as np\n",
    "\n",
    "import matplotlib.pyplot as plt\n",
    "\n",
    "\n",
    "import nltk as nltk\n",
    "from nltk.corpus import stopwords\n",
    "from sklearn.cluster import DBSCAN\n",
    "from sklearn.feature_extraction.text import CountVectorizer, HashingVectorizer, TfidfTransformer, TfidfVectorizer\n",
    "from nltk.tokenize import word_tokenize\n",
    "from sklearn.feature_extraction.text import TfidfVectorizer\n"
   ]
  },
  {
   "cell_type": "markdown",
   "metadata": {
    "id": "SY5dHN8iqmID"
   },
   "source": [
    "### Load Data"
   ]
  },
  {
   "cell_type": "code",
   "execution_count": null,
   "metadata": {
    "colab": {
     "base_uri": "https://localhost:8080/"
    },
    "executionInfo": {
     "elapsed": 58942,
     "status": "ok",
     "timestamp": 1669324304628,
     "user": {
      "displayName": "Naibo Hu",
      "userId": "05539525942778906817"
     },
     "user_tz": 360
    },
    "id": "Oq5mS8UFiY7K",
    "outputId": "cecbc2f8-964a-404c-a90a-433b9c5ddee0"
   },
   "outputs": [
    {
     "data": {
      "text/plain": [
       "(199538, 5)"
      ]
     },
     "execution_count": 4,
     "metadata": {},
     "output_type": "execute_result"
    }
   ],
   "source": [
    "df_news_final_project = pd.read_parquet('https://storage.googleapis.com/msca-bdp-data-open/news_final_project/news_final_project.parquet', engine='pyarrow')\n",
    "df_news_final_project.shape"
   ]
  },
  {
   "cell_type": "code",
   "execution_count": null,
   "metadata": {
    "colab": {
     "base_uri": "https://localhost:8080/",
     "height": 337
    },
    "executionInfo": {
     "elapsed": 258,
     "status": "ok",
     "timestamp": 1669324361269,
     "user": {
      "displayName": "Naibo Hu",
      "userId": "05539525942778906817"
     },
     "user_tz": 360
    },
    "id": "xQe1HxaoiaLb",
    "outputId": "8abfd87a-fe93-431b-94e3-cbee7ad0000b"
   },
   "outputs": [
    {
     "data": {
      "text/html": [
       "\n",
       "  <div id=\"df-9d870521-7f14-4f4c-b29c-df10881ed8eb\">\n",
       "    <div class=\"colab-df-container\">\n",
       "      <div>\n",
       "<style scoped>\n",
       "    .dataframe tbody tr th:only-of-type {\n",
       "        vertical-align: middle;\n",
       "    }\n",
       "\n",
       "    .dataframe tbody tr th {\n",
       "        vertical-align: top;\n",
       "    }\n",
       "\n",
       "    .dataframe thead th {\n",
       "        text-align: right;\n",
       "    }\n",
       "</style>\n",
       "<table border=\"1\" class=\"dataframe\">\n",
       "  <thead>\n",
       "    <tr style=\"text-align: right;\">\n",
       "      <th></th>\n",
       "      <th>url</th>\n",
       "      <th>date</th>\n",
       "      <th>language</th>\n",
       "      <th>title</th>\n",
       "      <th>text</th>\n",
       "    </tr>\n",
       "  </thead>\n",
       "  <tbody>\n",
       "    <tr>\n",
       "      <th>0</th>\n",
       "      <td>http://blog.executivebiz.com/2017/02/sap-ns2s-...</td>\n",
       "      <td>2017-02-07</td>\n",
       "      <td>en</td>\n",
       "      <td>SAP NS2’s Mark Testoni: AI Could Help Prevent ...</td>\n",
       "      <td>\\nSAP NS2’s Mark Testoni: AI Could Help Preve...</td>\n",
       "    </tr>\n",
       "    <tr>\n",
       "      <th>1</th>\n",
       "      <td>http://bq-magazine.com/a-decade-of-advancement...</td>\n",
       "      <td>2019-12-31</td>\n",
       "      <td>en</td>\n",
       "      <td>A Decade Of Advancements As We Enter A New Age...</td>\n",
       "      <td>\\n\\nA Decade Of Advancements As We Enter A New...</td>\n",
       "    </tr>\n",
       "    <tr>\n",
       "      <th>2</th>\n",
       "      <td>http://businessnewsthisweek.com/business/gende...</td>\n",
       "      <td>2022-03-09</td>\n",
       "      <td>en</td>\n",
       "      <td>Gender Bias in Artificial Intelligence | Busin...</td>\n",
       "      <td>\\nGender Bias in Artificial Intelligence | Bus...</td>\n",
       "    </tr>\n",
       "    <tr>\n",
       "      <th>3</th>\n",
       "      <td>http://cn.reuters.com/article/pharmaceuticals-...</td>\n",
       "      <td>2017-07-04</td>\n",
       "      <td>en</td>\n",
       "      <td>Big pharma turns to AI to speed drug discovery...</td>\n",
       "      <td>\\n\\nBig pharma turns to AI to speed drug disco...</td>\n",
       "    </tr>\n",
       "    <tr>\n",
       "      <th>4</th>\n",
       "      <td>http://fortune.com/2018/03/13/ai-computer-amaz...</td>\n",
       "      <td>2018-03-13</td>\n",
       "      <td>en</td>\n",
       "      <td>Amazon HQ2 Winner May Be Boston, Says Wells Fa...</td>\n",
       "      <td>\\n\\nAmazon HQ2 Winner May Be Boston, Says Well...</td>\n",
       "    </tr>\n",
       "  </tbody>\n",
       "</table>\n",
       "</div>\n",
       "      <button class=\"colab-df-convert\" onclick=\"convertToInteractive('df-9d870521-7f14-4f4c-b29c-df10881ed8eb')\"\n",
       "              title=\"Convert this dataframe to an interactive table.\"\n",
       "              style=\"display:none;\">\n",
       "        \n",
       "  <svg xmlns=\"http://www.w3.org/2000/svg\" height=\"24px\"viewBox=\"0 0 24 24\"\n",
       "       width=\"24px\">\n",
       "    <path d=\"M0 0h24v24H0V0z\" fill=\"none\"/>\n",
       "    <path d=\"M18.56 5.44l.94 2.06.94-2.06 2.06-.94-2.06-.94-.94-2.06-.94 2.06-2.06.94zm-11 1L8.5 8.5l.94-2.06 2.06-.94-2.06-.94L8.5 2.5l-.94 2.06-2.06.94zm10 10l.94 2.06.94-2.06 2.06-.94-2.06-.94-.94-2.06-.94 2.06-2.06.94z\"/><path d=\"M17.41 7.96l-1.37-1.37c-.4-.4-.92-.59-1.43-.59-.52 0-1.04.2-1.43.59L10.3 9.45l-7.72 7.72c-.78.78-.78 2.05 0 2.83L4 21.41c.39.39.9.59 1.41.59.51 0 1.02-.2 1.41-.59l7.78-7.78 2.81-2.81c.8-.78.8-2.07 0-2.86zM5.41 20L4 18.59l7.72-7.72 1.47 1.35L5.41 20z\"/>\n",
       "  </svg>\n",
       "      </button>\n",
       "      \n",
       "  <style>\n",
       "    .colab-df-container {\n",
       "      display:flex;\n",
       "      flex-wrap:wrap;\n",
       "      gap: 12px;\n",
       "    }\n",
       "\n",
       "    .colab-df-convert {\n",
       "      background-color: #E8F0FE;\n",
       "      border: none;\n",
       "      border-radius: 50%;\n",
       "      cursor: pointer;\n",
       "      display: none;\n",
       "      fill: #1967D2;\n",
       "      height: 32px;\n",
       "      padding: 0 0 0 0;\n",
       "      width: 32px;\n",
       "    }\n",
       "\n",
       "    .colab-df-convert:hover {\n",
       "      background-color: #E2EBFA;\n",
       "      box-shadow: 0px 1px 2px rgba(60, 64, 67, 0.3), 0px 1px 3px 1px rgba(60, 64, 67, 0.15);\n",
       "      fill: #174EA6;\n",
       "    }\n",
       "\n",
       "    [theme=dark] .colab-df-convert {\n",
       "      background-color: #3B4455;\n",
       "      fill: #D2E3FC;\n",
       "    }\n",
       "\n",
       "    [theme=dark] .colab-df-convert:hover {\n",
       "      background-color: #434B5C;\n",
       "      box-shadow: 0px 1px 3px 1px rgba(0, 0, 0, 0.15);\n",
       "      filter: drop-shadow(0px 1px 2px rgba(0, 0, 0, 0.3));\n",
       "      fill: #FFFFFF;\n",
       "    }\n",
       "  </style>\n",
       "\n",
       "      <script>\n",
       "        const buttonEl =\n",
       "          document.querySelector('#df-9d870521-7f14-4f4c-b29c-df10881ed8eb button.colab-df-convert');\n",
       "        buttonEl.style.display =\n",
       "          google.colab.kernel.accessAllowed ? 'block' : 'none';\n",
       "\n",
       "        async function convertToInteractive(key) {\n",
       "          const element = document.querySelector('#df-9d870521-7f14-4f4c-b29c-df10881ed8eb');\n",
       "          const dataTable =\n",
       "            await google.colab.kernel.invokeFunction('convertToInteractive',\n",
       "                                                     [key], {});\n",
       "          if (!dataTable) return;\n",
       "\n",
       "          const docLinkHtml = 'Like what you see? Visit the ' +\n",
       "            '<a target=\"_blank\" href=https://colab.research.google.com/notebooks/data_table.ipynb>data table notebook</a>'\n",
       "            + ' to learn more about interactive tables.';\n",
       "          element.innerHTML = '';\n",
       "          dataTable['output_type'] = 'display_data';\n",
       "          await google.colab.output.renderOutput(dataTable, element);\n",
       "          const docLink = document.createElement('div');\n",
       "          docLink.innerHTML = docLinkHtml;\n",
       "          element.appendChild(docLink);\n",
       "        }\n",
       "      </script>\n",
       "    </div>\n",
       "  </div>\n",
       "  "
      ],
      "text/plain": [
       "                                                 url        date language  \\\n",
       "0  http://blog.executivebiz.com/2017/02/sap-ns2s-...  2017-02-07       en   \n",
       "1  http://bq-magazine.com/a-decade-of-advancement...  2019-12-31       en   \n",
       "2  http://businessnewsthisweek.com/business/gende...  2022-03-09       en   \n",
       "3  http://cn.reuters.com/article/pharmaceuticals-...  2017-07-04       en   \n",
       "4  http://fortune.com/2018/03/13/ai-computer-amaz...  2018-03-13       en   \n",
       "\n",
       "                                               title  \\\n",
       "0  SAP NS2’s Mark Testoni: AI Could Help Prevent ...   \n",
       "1  A Decade Of Advancements As We Enter A New Age...   \n",
       "2  Gender Bias in Artificial Intelligence | Busin...   \n",
       "3  Big pharma turns to AI to speed drug discovery...   \n",
       "4  Amazon HQ2 Winner May Be Boston, Says Wells Fa...   \n",
       "\n",
       "                                                text  \n",
       "0   \\nSAP NS2’s Mark Testoni: AI Could Help Preve...  \n",
       "1  \\n\\nA Decade Of Advancements As We Enter A New...  \n",
       "2  \\nGender Bias in Artificial Intelligence | Bus...  \n",
       "3  \\n\\nBig pharma turns to AI to speed drug disco...  \n",
       "4  \\n\\nAmazon HQ2 Winner May Be Boston, Says Well...  "
      ]
     },
     "execution_count": 5,
     "metadata": {},
     "output_type": "execute_result"
    }
   ],
   "source": [
    "df_news_final_project.head()"
   ]
  },
  {
   "cell_type": "code",
   "execution_count": null,
   "metadata": {
    "id": "vNXITMI6h17F"
   },
   "outputs": [],
   "source": [
    "df = df_news_final_project"
   ]
  },
  {
   "cell_type": "code",
   "execution_count": null,
   "metadata": {
    "id": "T6hhQIHXismR"
   },
   "outputs": [],
   "source": [
    "pd.set_option('display.max_colwidth', 100)"
   ]
  },
  {
   "cell_type": "markdown",
   "metadata": {
    "id": "iFYZc7bhd-dB"
   },
   "source": [
    "# Data Preprocessing\n",
    "### Clean-up the noise, by eliminating newlines, tabs, remnants of web crawls, and other irrelevant text"
   ]
  },
  {
   "cell_type": "code",
   "execution_count": null,
   "metadata": {
    "id": "2yWPWYS_itj7"
   },
   "outputs": [],
   "source": [
    "# clean article text\n",
    "df[\"clean_text\"] = df[\"text\"].apply(lambda x: re.sub(r'\\n', '',x)) # remove new line\n",
    "df[\"clean_text\"] = df[\"clean_text\"].apply(lambda x: re.sub(r'https://.*', '',x)) # remove url\n",
    "df[\"clean_text\"] = df[\"clean_text\"].apply(lambda x: re.sub(r'@\\w*', '',x)) # remove mention\n",
    "df[\"clean_text\"] = df[\"clean_text\"].apply(lambda x: re.sub(r'#\\w*', '',x)) # remove tag\n",
    "# keep only letters, periods, and white space\n",
    "#df[\"clean_text\"] = df[\"clean_text\"].apply(lambda x: re.sub(r'[^a-zA-Z.\\s]', '',x))\n",
    "# change consecutive white space into 1 whitespace\n",
    "df[\"clean_text\"] = df[\"clean_text\"].apply(lambda x: re.sub(' +', ' ',x))"
   ]
  },
  {
   "cell_type": "code",
   "execution_count": null,
   "metadata": {
    "id": "DdrmQMAbiunA"
   },
   "outputs": [],
   "source": [
    " # remove remnants of web crawls\n",
    "df[\"clean_text\"] = df[\"clean_text\"].apply(lambda x: re.sub(r'\\xa0SAP', '',x))\n",
    "df[\"clean_text\"] = df[\"clean_text\"].apply(lambda x: re.sub(r'\\xa0National', '',x))\n",
    "df[\"clean_text\"] = df[\"clean_text\"].apply(lambda x: re.sub(r'\\xa0', '',x))\n",
    "df[\"clean_text\"] = df[\"clean_text\"].apply(lambda x: re.sub(r'\\t', '',x))\n",
    "df[\"clean_text\"] = df[\"clean_text\"].apply(lambda x: re.sub(r'\\r', '',x))\n",
    "df[\"clean_text\"] = df[\"clean_text\"].apply(lambda x: re.sub(r'\\|', '',x))"
   ]
  },
  {
   "cell_type": "code",
   "execution_count": null,
   "metadata": {
    "id": "_V-I7Z0kfPn4"
   },
   "outputs": [],
   "source": [
    "# clean article title\n",
    "df[\"clean_title\"] = df[\"title\"].apply(lambda x: re.sub(r'\\n', '',x)) # remove new line\n",
    "df[\"clean_title\"] = df[\"clean_title\"].apply(lambda x: re.sub(r'https://.*', '',x)) # remove url\n",
    "df[\"clean_title\"] = df[\"clean_title\"].apply(lambda x: re.sub(r'@\\w*', '',x)) # remove mention\n",
    "df[\"clean_title\"] = df[\"clean_title\"].apply(lambda x: re.sub(r'#\\w*', '',x)) # remove tag\n",
    "# change consecutive white space into 1 whitespace\n",
    "df[\"clean_title\"] = df[\"clean_title\"].apply(lambda x: re.sub(' +', ' ',x))\n",
    "# keep only letters, periods, and white space\n",
    "#df[\"clean_title\"] = df[\"clean_title\"].apply(lambda x: re.sub(r'[^a-zA-Z.\\s]', '',x))"
   ]
  },
  {
   "cell_type": "markdown",
   "metadata": {
    "id": "au3zZrm8qzsA"
   },
   "source": [
    "### Discard irrelevant articles"
   ]
  },
  {
   "cell_type": "code",
   "execution_count": null,
   "metadata": {
    "id": "P0wHv1pPix0H"
   },
   "outputs": [],
   "source": [
    "keywords = ['AI', 'ai', 'artificial intelligence','Artificial Intelligence','ARTIFICIAL INTELLIGENCE', 'Data Science', 'data science', 'DATA SCIENCE']\n",
    "query = '|'.join(keywords)"
   ]
  },
  {
   "cell_type": "code",
   "execution_count": null,
   "metadata": {
    "id": "zS4sE6RgjDDK"
   },
   "outputs": [],
   "source": [
    "df_clean = df[df['clean_text'].str.contains(query)]"
   ]
  },
  {
   "cell_type": "code",
   "execution_count": null,
   "metadata": {
    "id": "0EWAZfa-iROp"
   },
   "outputs": [],
   "source": [
    "df_clean = df[df['clean_title'].str.contains(query)]"
   ]
  },
  {
   "cell_type": "code",
   "execution_count": null,
   "metadata": {
    "colab": {
     "base_uri": "https://localhost:8080/"
    },
    "executionInfo": {
     "elapsed": 3,
     "status": "ok",
     "timestamp": 1669325290382,
     "user": {
      "displayName": "Naibo Hu",
      "userId": "05539525942778906817"
     },
     "user_tz": 360
    },
    "id": "jRTQMVQjjEQP",
    "outputId": "a385b6c4-7546-41e1-ceed-17c196198149"
   },
   "outputs": [
    {
     "data": {
      "text/plain": [
       "(171652, 7)"
      ]
     },
     "execution_count": 28,
     "metadata": {},
     "output_type": "execute_result"
    }
   ],
   "source": [
    "df_clean.shape"
   ]
  },
  {
   "cell_type": "markdown",
   "metadata": {
    "id": "SYe5KKOWq2aT"
   },
   "source": [
    "### Drop Duplicates"
   ]
  },
  {
   "cell_type": "code",
   "execution_count": null,
   "metadata": {
    "id": "8_nbgfm3jF6d"
   },
   "outputs": [],
   "source": [
    "df_clean = df_clean[[\"date\",\"clean_title\",\"clean_text\"]].drop_duplicates()"
   ]
  },
  {
   "cell_type": "code",
   "execution_count": null,
   "metadata": {
    "colab": {
     "base_uri": "https://localhost:8080/"
    },
    "executionInfo": {
     "elapsed": 273,
     "status": "ok",
     "timestamp": 1669325302968,
     "user": {
      "displayName": "Naibo Hu",
      "userId": "05539525942778906817"
     },
     "user_tz": 360
    },
    "id": "BoXde1L7jW_U",
    "outputId": "62ff7048-9ee1-44b2-c3dc-152bd1fa5bb2"
   },
   "outputs": [
    {
     "data": {
      "text/plain": [
       "(168797, 3)"
      ]
     },
     "execution_count": 30,
     "metadata": {},
     "output_type": "execute_result"
    }
   ],
   "source": [
    "df_clean.shape"
   ]
  },
  {
   "cell_type": "code",
   "execution_count": null,
   "metadata": {
    "colab": {
     "base_uri": "https://localhost:8080/",
     "height": 239
    },
    "executionInfo": {
     "elapsed": 3,
     "status": "ok",
     "timestamp": 1669325359363,
     "user": {
      "displayName": "Naibo Hu",
      "userId": "05539525942778906817"
     },
     "user_tz": 360
    },
    "id": "ark6WMcLi2i9",
    "outputId": "409aab66-29c8-4430-bd59-72b6460b54ca"
   },
   "outputs": [
    {
     "data": {
      "text/html": [
       "\n",
       "  <div id=\"df-e94f64c7-024d-4918-8ffa-53aa23be7719\">\n",
       "    <div class=\"colab-df-container\">\n",
       "      <div>\n",
       "<style scoped>\n",
       "    .dataframe tbody tr th:only-of-type {\n",
       "        vertical-align: middle;\n",
       "    }\n",
       "\n",
       "    .dataframe tbody tr th {\n",
       "        vertical-align: top;\n",
       "    }\n",
       "\n",
       "    .dataframe thead th {\n",
       "        text-align: right;\n",
       "    }\n",
       "</style>\n",
       "<table border=\"1\" class=\"dataframe\">\n",
       "  <thead>\n",
       "    <tr style=\"text-align: right;\">\n",
       "      <th></th>\n",
       "      <th>date</th>\n",
       "      <th>clean_title</th>\n",
       "      <th>clean_text</th>\n",
       "    </tr>\n",
       "  </thead>\n",
       "  <tbody>\n",
       "    <tr>\n",
       "      <th>0</th>\n",
       "      <td>2017-02-07</td>\n",
       "      <td>SAP NS2’s Mark Testoni: AI Could Help Prevent Cyber Attacks Through Threat Classification | Exec...</td>\n",
       "      <td>SAP NS2’s Mark Testoni: AI Could Help Prevent Cyber Attacks Through Threat Classification  Exec...</td>\n",
       "    </tr>\n",
       "    <tr>\n",
       "      <th>1</th>\n",
       "      <td>2019-12-31</td>\n",
       "      <td>A Decade Of Advancements As We Enter A New Age Of AI - Business Quick Magazine</td>\n",
       "      <td>A Decade Of Advancements As We Enter A New Age Of AI - Business Quick Magazine HomeBusinessTechn...</td>\n",
       "    </tr>\n",
       "    <tr>\n",
       "      <th>2</th>\n",
       "      <td>2022-03-09</td>\n",
       "      <td>Gender Bias in Artificial Intelligence | Business News This Week</td>\n",
       "      <td>Gender Bias in Artificial Intelligence  Business News This WeekBusiness News [ March 9, 2022 ] Z...</td>\n",
       "    </tr>\n",
       "  </tbody>\n",
       "</table>\n",
       "</div>\n",
       "      <button class=\"colab-df-convert\" onclick=\"convertToInteractive('df-e94f64c7-024d-4918-8ffa-53aa23be7719')\"\n",
       "              title=\"Convert this dataframe to an interactive table.\"\n",
       "              style=\"display:none;\">\n",
       "        \n",
       "  <svg xmlns=\"http://www.w3.org/2000/svg\" height=\"24px\"viewBox=\"0 0 24 24\"\n",
       "       width=\"24px\">\n",
       "    <path d=\"M0 0h24v24H0V0z\" fill=\"none\"/>\n",
       "    <path d=\"M18.56 5.44l.94 2.06.94-2.06 2.06-.94-2.06-.94-.94-2.06-.94 2.06-2.06.94zm-11 1L8.5 8.5l.94-2.06 2.06-.94-2.06-.94L8.5 2.5l-.94 2.06-2.06.94zm10 10l.94 2.06.94-2.06 2.06-.94-2.06-.94-.94-2.06-.94 2.06-2.06.94z\"/><path d=\"M17.41 7.96l-1.37-1.37c-.4-.4-.92-.59-1.43-.59-.52 0-1.04.2-1.43.59L10.3 9.45l-7.72 7.72c-.78.78-.78 2.05 0 2.83L4 21.41c.39.39.9.59 1.41.59.51 0 1.02-.2 1.41-.59l7.78-7.78 2.81-2.81c.8-.78.8-2.07 0-2.86zM5.41 20L4 18.59l7.72-7.72 1.47 1.35L5.41 20z\"/>\n",
       "  </svg>\n",
       "      </button>\n",
       "      \n",
       "  <style>\n",
       "    .colab-df-container {\n",
       "      display:flex;\n",
       "      flex-wrap:wrap;\n",
       "      gap: 12px;\n",
       "    }\n",
       "\n",
       "    .colab-df-convert {\n",
       "      background-color: #E8F0FE;\n",
       "      border: none;\n",
       "      border-radius: 50%;\n",
       "      cursor: pointer;\n",
       "      display: none;\n",
       "      fill: #1967D2;\n",
       "      height: 32px;\n",
       "      padding: 0 0 0 0;\n",
       "      width: 32px;\n",
       "    }\n",
       "\n",
       "    .colab-df-convert:hover {\n",
       "      background-color: #E2EBFA;\n",
       "      box-shadow: 0px 1px 2px rgba(60, 64, 67, 0.3), 0px 1px 3px 1px rgba(60, 64, 67, 0.15);\n",
       "      fill: #174EA6;\n",
       "    }\n",
       "\n",
       "    [theme=dark] .colab-df-convert {\n",
       "      background-color: #3B4455;\n",
       "      fill: #D2E3FC;\n",
       "    }\n",
       "\n",
       "    [theme=dark] .colab-df-convert:hover {\n",
       "      background-color: #434B5C;\n",
       "      box-shadow: 0px 1px 3px 1px rgba(0, 0, 0, 0.15);\n",
       "      filter: drop-shadow(0px 1px 2px rgba(0, 0, 0, 0.3));\n",
       "      fill: #FFFFFF;\n",
       "    }\n",
       "  </style>\n",
       "\n",
       "      <script>\n",
       "        const buttonEl =\n",
       "          document.querySelector('#df-e94f64c7-024d-4918-8ffa-53aa23be7719 button.colab-df-convert');\n",
       "        buttonEl.style.display =\n",
       "          google.colab.kernel.accessAllowed ? 'block' : 'none';\n",
       "\n",
       "        async function convertToInteractive(key) {\n",
       "          const element = document.querySelector('#df-e94f64c7-024d-4918-8ffa-53aa23be7719');\n",
       "          const dataTable =\n",
       "            await google.colab.kernel.invokeFunction('convertToInteractive',\n",
       "                                                     [key], {});\n",
       "          if (!dataTable) return;\n",
       "\n",
       "          const docLinkHtml = 'Like what you see? Visit the ' +\n",
       "            '<a target=\"_blank\" href=https://colab.research.google.com/notebooks/data_table.ipynb>data table notebook</a>'\n",
       "            + ' to learn more about interactive tables.';\n",
       "          element.innerHTML = '';\n",
       "          dataTable['output_type'] = 'display_data';\n",
       "          await google.colab.output.renderOutput(dataTable, element);\n",
       "          const docLink = document.createElement('div');\n",
       "          docLink.innerHTML = docLinkHtml;\n",
       "          element.appendChild(docLink);\n",
       "        }\n",
       "      </script>\n",
       "    </div>\n",
       "  </div>\n",
       "  "
      ],
      "text/plain": [
       "         date  \\\n",
       "0  2017-02-07   \n",
       "1  2019-12-31   \n",
       "2  2022-03-09   \n",
       "\n",
       "                                                                                           clean_title  \\\n",
       "0  SAP NS2’s Mark Testoni: AI Could Help Prevent Cyber Attacks Through Threat Classification | Exec...   \n",
       "1                       A Decade Of Advancements As We Enter A New Age Of AI - Business Quick Magazine   \n",
       "2                                     Gender Bias in Artificial Intelligence | Business News This Week   \n",
       "\n",
       "                                                                                            clean_text  \n",
       "0   SAP NS2’s Mark Testoni: AI Could Help Prevent Cyber Attacks Through Threat Classification  Exec...  \n",
       "1  A Decade Of Advancements As We Enter A New Age Of AI - Business Quick Magazine HomeBusinessTechn...  \n",
       "2  Gender Bias in Artificial Intelligence  Business News This WeekBusiness News [ March 9, 2022 ] Z...  "
      ]
     },
     "execution_count": 33,
     "metadata": {},
     "output_type": "execute_result"
    }
   ],
   "source": [
    "df_clean.head(3)"
   ]
  },
  {
   "cell_type": "markdown",
   "metadata": {
    "id": "uCT3WPIo9LoR"
   },
   "source": [
    "### Export cleaned text to csv"
   ]
  },
  {
   "cell_type": "code",
   "execution_count": null,
   "metadata": {
    "id": "Qt8BCoWX6ndn"
   },
   "outputs": [],
   "source": [
    "df_clean.to_csv(\"clean_text.csv\", index = False)"
   ]
  },
  {
   "cell_type": "code",
   "execution_count": null,
   "metadata": {
    "id": "IiAoAWMV9I2I"
   },
   "outputs": [],
   "source": [
    "df = df_clean"
   ]
  },
  {
   "cell_type": "markdown",
   "metadata": {
    "id": "ilL1wgqG9gTV"
   },
   "source": [
    "### Word Counts in clean text"
   ]
  },
  {
   "cell_type": "code",
   "execution_count": null,
   "metadata": {
    "id": "H0ttOOjEu0aI"
   },
   "outputs": [],
   "source": [
    "def num_of_words(df):\n",
    "    df['length'] = df['clean_text'].apply(lambda x : len(str(x).split()))\n",
    "    df = df.reset_index(drop = True)\n",
    "    #df = df.sort_values(by = ['length'], ascending = False).reset_index(drop = True)\n",
    "    return df"
   ]
  },
  {
   "cell_type": "code",
   "execution_count": null,
   "metadata": {
    "id": "T5V6q0zUu0dg"
   },
   "outputs": [],
   "source": [
    "## Count number of words in the text\n",
    "df_count = num_of_words(df)"
   ]
  },
  {
   "cell_type": "code",
   "execution_count": null,
   "metadata": {
    "colab": {
     "base_uri": "https://localhost:8080/",
     "height": 300
    },
    "executionInfo": {
     "elapsed": 13,
     "status": "ok",
     "timestamp": 1669325568884,
     "user": {
      "displayName": "Naibo Hu",
      "userId": "05539525942778906817"
     },
     "user_tz": 360
    },
    "id": "Rb-Q7zof9-Jq",
    "outputId": "d870edc4-d756-45eb-bd48-b92113759329"
   },
   "outputs": [
    {
     "data": {
      "text/html": [
       "\n",
       "  <div id=\"df-89ba7b2f-b49d-482b-b0d9-b3dcfda06fcc\">\n",
       "    <div class=\"colab-df-container\">\n",
       "      <div>\n",
       "<style scoped>\n",
       "    .dataframe tbody tr th:only-of-type {\n",
       "        vertical-align: middle;\n",
       "    }\n",
       "\n",
       "    .dataframe tbody tr th {\n",
       "        vertical-align: top;\n",
       "    }\n",
       "\n",
       "    .dataframe thead th {\n",
       "        text-align: right;\n",
       "    }\n",
       "</style>\n",
       "<table border=\"1\" class=\"dataframe\">\n",
       "  <thead>\n",
       "    <tr style=\"text-align: right;\">\n",
       "      <th></th>\n",
       "      <th>length</th>\n",
       "    </tr>\n",
       "  </thead>\n",
       "  <tbody>\n",
       "    <tr>\n",
       "      <th>count</th>\n",
       "      <td>168797.000000</td>\n",
       "    </tr>\n",
       "    <tr>\n",
       "      <th>mean</th>\n",
       "      <td>925.124439</td>\n",
       "    </tr>\n",
       "    <tr>\n",
       "      <th>std</th>\n",
       "      <td>904.795189</td>\n",
       "    </tr>\n",
       "    <tr>\n",
       "      <th>min</th>\n",
       "      <td>5.000000</td>\n",
       "    </tr>\n",
       "    <tr>\n",
       "      <th>25%</th>\n",
       "      <td>475.000000</td>\n",
       "    </tr>\n",
       "    <tr>\n",
       "      <th>50%</th>\n",
       "      <td>749.000000</td>\n",
       "    </tr>\n",
       "    <tr>\n",
       "      <th>75%</th>\n",
       "      <td>1146.000000</td>\n",
       "    </tr>\n",
       "    <tr>\n",
       "      <th>max</th>\n",
       "      <td>21119.000000</td>\n",
       "    </tr>\n",
       "  </tbody>\n",
       "</table>\n",
       "</div>\n",
       "      <button class=\"colab-df-convert\" onclick=\"convertToInteractive('df-89ba7b2f-b49d-482b-b0d9-b3dcfda06fcc')\"\n",
       "              title=\"Convert this dataframe to an interactive table.\"\n",
       "              style=\"display:none;\">\n",
       "        \n",
       "  <svg xmlns=\"http://www.w3.org/2000/svg\" height=\"24px\"viewBox=\"0 0 24 24\"\n",
       "       width=\"24px\">\n",
       "    <path d=\"M0 0h24v24H0V0z\" fill=\"none\"/>\n",
       "    <path d=\"M18.56 5.44l.94 2.06.94-2.06 2.06-.94-2.06-.94-.94-2.06-.94 2.06-2.06.94zm-11 1L8.5 8.5l.94-2.06 2.06-.94-2.06-.94L8.5 2.5l-.94 2.06-2.06.94zm10 10l.94 2.06.94-2.06 2.06-.94-2.06-.94-.94-2.06-.94 2.06-2.06.94z\"/><path d=\"M17.41 7.96l-1.37-1.37c-.4-.4-.92-.59-1.43-.59-.52 0-1.04.2-1.43.59L10.3 9.45l-7.72 7.72c-.78.78-.78 2.05 0 2.83L4 21.41c.39.39.9.59 1.41.59.51 0 1.02-.2 1.41-.59l7.78-7.78 2.81-2.81c.8-.78.8-2.07 0-2.86zM5.41 20L4 18.59l7.72-7.72 1.47 1.35L5.41 20z\"/>\n",
       "  </svg>\n",
       "      </button>\n",
       "      \n",
       "  <style>\n",
       "    .colab-df-container {\n",
       "      display:flex;\n",
       "      flex-wrap:wrap;\n",
       "      gap: 12px;\n",
       "    }\n",
       "\n",
       "    .colab-df-convert {\n",
       "      background-color: #E8F0FE;\n",
       "      border: none;\n",
       "      border-radius: 50%;\n",
       "      cursor: pointer;\n",
       "      display: none;\n",
       "      fill: #1967D2;\n",
       "      height: 32px;\n",
       "      padding: 0 0 0 0;\n",
       "      width: 32px;\n",
       "    }\n",
       "\n",
       "    .colab-df-convert:hover {\n",
       "      background-color: #E2EBFA;\n",
       "      box-shadow: 0px 1px 2px rgba(60, 64, 67, 0.3), 0px 1px 3px 1px rgba(60, 64, 67, 0.15);\n",
       "      fill: #174EA6;\n",
       "    }\n",
       "\n",
       "    [theme=dark] .colab-df-convert {\n",
       "      background-color: #3B4455;\n",
       "      fill: #D2E3FC;\n",
       "    }\n",
       "\n",
       "    [theme=dark] .colab-df-convert:hover {\n",
       "      background-color: #434B5C;\n",
       "      box-shadow: 0px 1px 3px 1px rgba(0, 0, 0, 0.15);\n",
       "      filter: drop-shadow(0px 1px 2px rgba(0, 0, 0, 0.3));\n",
       "      fill: #FFFFFF;\n",
       "    }\n",
       "  </style>\n",
       "\n",
       "      <script>\n",
       "        const buttonEl =\n",
       "          document.querySelector('#df-89ba7b2f-b49d-482b-b0d9-b3dcfda06fcc button.colab-df-convert');\n",
       "        buttonEl.style.display =\n",
       "          google.colab.kernel.accessAllowed ? 'block' : 'none';\n",
       "\n",
       "        async function convertToInteractive(key) {\n",
       "          const element = document.querySelector('#df-89ba7b2f-b49d-482b-b0d9-b3dcfda06fcc');\n",
       "          const dataTable =\n",
       "            await google.colab.kernel.invokeFunction('convertToInteractive',\n",
       "                                                     [key], {});\n",
       "          if (!dataTable) return;\n",
       "\n",
       "          const docLinkHtml = 'Like what you see? Visit the ' +\n",
       "            '<a target=\"_blank\" href=https://colab.research.google.com/notebooks/data_table.ipynb>data table notebook</a>'\n",
       "            + ' to learn more about interactive tables.';\n",
       "          element.innerHTML = '';\n",
       "          dataTable['output_type'] = 'display_data';\n",
       "          await google.colab.output.renderOutput(dataTable, element);\n",
       "          const docLink = document.createElement('div');\n",
       "          docLink.innerHTML = docLinkHtml;\n",
       "          element.appendChild(docLink);\n",
       "        }\n",
       "      </script>\n",
       "    </div>\n",
       "  </div>\n",
       "  "
      ],
      "text/plain": [
       "              length\n",
       "count  168797.000000\n",
       "mean      925.124439\n",
       "std       904.795189\n",
       "min         5.000000\n",
       "25%       475.000000\n",
       "50%       749.000000\n",
       "75%      1146.000000\n",
       "max     21119.000000"
      ]
     },
     "execution_count": 38,
     "metadata": {},
     "output_type": "execute_result"
    }
   ],
   "source": [
    "df_count.describe()"
   ]
  },
  {
   "cell_type": "code",
   "execution_count": null,
   "metadata": {
    "colab": {
     "base_uri": "https://localhost:8080/",
     "height": 337
    },
    "executionInfo": {
     "elapsed": 4,
     "status": "ok",
     "timestamp": 1669325626947,
     "user": {
      "displayName": "Naibo Hu",
      "userId": "05539525942778906817"
     },
     "user_tz": 360
    },
    "id": "sSgF2ywDBZdm",
    "outputId": "d73bb3b3-b9d5-4c59-ddcb-89f3c0498c2a"
   },
   "outputs": [
    {
     "data": {
      "text/html": [
       "\n",
       "  <div id=\"df-67684239-aa1b-455d-8a07-fe32d6284000\">\n",
       "    <div class=\"colab-df-container\">\n",
       "      <div>\n",
       "<style scoped>\n",
       "    .dataframe tbody tr th:only-of-type {\n",
       "        vertical-align: middle;\n",
       "    }\n",
       "\n",
       "    .dataframe tbody tr th {\n",
       "        vertical-align: top;\n",
       "    }\n",
       "\n",
       "    .dataframe thead th {\n",
       "        text-align: right;\n",
       "    }\n",
       "</style>\n",
       "<table border=\"1\" class=\"dataframe\">\n",
       "  <thead>\n",
       "    <tr style=\"text-align: right;\">\n",
       "      <th></th>\n",
       "      <th>date</th>\n",
       "      <th>clean_title</th>\n",
       "      <th>clean_text</th>\n",
       "      <th>length</th>\n",
       "    </tr>\n",
       "  </thead>\n",
       "  <tbody>\n",
       "    <tr>\n",
       "      <th>0</th>\n",
       "      <td>2017-02-07</td>\n",
       "      <td>SAP NS2’s Mark Testoni: AI Could Help Prevent Cyber Attacks Through Threat Classification | Exec...</td>\n",
       "      <td>SAP NS2’s Mark Testoni: AI Could Help Prevent Cyber Attacks Through Threat Classification  Exec...</td>\n",
       "      <td>660</td>\n",
       "    </tr>\n",
       "    <tr>\n",
       "      <th>1</th>\n",
       "      <td>2019-12-31</td>\n",
       "      <td>A Decade Of Advancements As We Enter A New Age Of AI - Business Quick Magazine</td>\n",
       "      <td>A Decade Of Advancements As We Enter A New Age Of AI - Business Quick Magazine HomeBusinessTechn...</td>\n",
       "      <td>1455</td>\n",
       "    </tr>\n",
       "    <tr>\n",
       "      <th>2</th>\n",
       "      <td>2022-03-09</td>\n",
       "      <td>Gender Bias in Artificial Intelligence | Business News This Week</td>\n",
       "      <td>Gender Bias in Artificial Intelligence  Business News This WeekBusiness News [ March 9, 2022 ] Z...</td>\n",
       "      <td>1253</td>\n",
       "    </tr>\n",
       "    <tr>\n",
       "      <th>3</th>\n",
       "      <td>2017-07-04</td>\n",
       "      <td>Big pharma turns to AI to speed drug discovery, GSK signs deal | 路透中文网</td>\n",
       "      <td>Big pharma turns to AI to speed drug discovery, GSK signs deal  路透中文网Discover Thomson ReutersFin...</td>\n",
       "      <td>712</td>\n",
       "    </tr>\n",
       "    <tr>\n",
       "      <th>4</th>\n",
       "      <td>2018-03-13</td>\n",
       "      <td>Amazon HQ2 Winner May Be Boston, Says Wells Fargo AI Program | Fortune</td>\n",
       "      <td>Amazon HQ2 Winner May Be Boston, Says Wells Fargo AI Program  Fortune Wells Fargo's AI Computer ...</td>\n",
       "      <td>728</td>\n",
       "    </tr>\n",
       "  </tbody>\n",
       "</table>\n",
       "</div>\n",
       "      <button class=\"colab-df-convert\" onclick=\"convertToInteractive('df-67684239-aa1b-455d-8a07-fe32d6284000')\"\n",
       "              title=\"Convert this dataframe to an interactive table.\"\n",
       "              style=\"display:none;\">\n",
       "        \n",
       "  <svg xmlns=\"http://www.w3.org/2000/svg\" height=\"24px\"viewBox=\"0 0 24 24\"\n",
       "       width=\"24px\">\n",
       "    <path d=\"M0 0h24v24H0V0z\" fill=\"none\"/>\n",
       "    <path d=\"M18.56 5.44l.94 2.06.94-2.06 2.06-.94-2.06-.94-.94-2.06-.94 2.06-2.06.94zm-11 1L8.5 8.5l.94-2.06 2.06-.94-2.06-.94L8.5 2.5l-.94 2.06-2.06.94zm10 10l.94 2.06.94-2.06 2.06-.94-2.06-.94-.94-2.06-.94 2.06-2.06.94z\"/><path d=\"M17.41 7.96l-1.37-1.37c-.4-.4-.92-.59-1.43-.59-.52 0-1.04.2-1.43.59L10.3 9.45l-7.72 7.72c-.78.78-.78 2.05 0 2.83L4 21.41c.39.39.9.59 1.41.59.51 0 1.02-.2 1.41-.59l7.78-7.78 2.81-2.81c.8-.78.8-2.07 0-2.86zM5.41 20L4 18.59l7.72-7.72 1.47 1.35L5.41 20z\"/>\n",
       "  </svg>\n",
       "      </button>\n",
       "      \n",
       "  <style>\n",
       "    .colab-df-container {\n",
       "      display:flex;\n",
       "      flex-wrap:wrap;\n",
       "      gap: 12px;\n",
       "    }\n",
       "\n",
       "    .colab-df-convert {\n",
       "      background-color: #E8F0FE;\n",
       "      border: none;\n",
       "      border-radius: 50%;\n",
       "      cursor: pointer;\n",
       "      display: none;\n",
       "      fill: #1967D2;\n",
       "      height: 32px;\n",
       "      padding: 0 0 0 0;\n",
       "      width: 32px;\n",
       "    }\n",
       "\n",
       "    .colab-df-convert:hover {\n",
       "      background-color: #E2EBFA;\n",
       "      box-shadow: 0px 1px 2px rgba(60, 64, 67, 0.3), 0px 1px 3px 1px rgba(60, 64, 67, 0.15);\n",
       "      fill: #174EA6;\n",
       "    }\n",
       "\n",
       "    [theme=dark] .colab-df-convert {\n",
       "      background-color: #3B4455;\n",
       "      fill: #D2E3FC;\n",
       "    }\n",
       "\n",
       "    [theme=dark] .colab-df-convert:hover {\n",
       "      background-color: #434B5C;\n",
       "      box-shadow: 0px 1px 3px 1px rgba(0, 0, 0, 0.15);\n",
       "      filter: drop-shadow(0px 1px 2px rgba(0, 0, 0, 0.3));\n",
       "      fill: #FFFFFF;\n",
       "    }\n",
       "  </style>\n",
       "\n",
       "      <script>\n",
       "        const buttonEl =\n",
       "          document.querySelector('#df-67684239-aa1b-455d-8a07-fe32d6284000 button.colab-df-convert');\n",
       "        buttonEl.style.display =\n",
       "          google.colab.kernel.accessAllowed ? 'block' : 'none';\n",
       "\n",
       "        async function convertToInteractive(key) {\n",
       "          const element = document.querySelector('#df-67684239-aa1b-455d-8a07-fe32d6284000');\n",
       "          const dataTable =\n",
       "            await google.colab.kernel.invokeFunction('convertToInteractive',\n",
       "                                                     [key], {});\n",
       "          if (!dataTable) return;\n",
       "\n",
       "          const docLinkHtml = 'Like what you see? Visit the ' +\n",
       "            '<a target=\"_blank\" href=https://colab.research.google.com/notebooks/data_table.ipynb>data table notebook</a>'\n",
       "            + ' to learn more about interactive tables.';\n",
       "          element.innerHTML = '';\n",
       "          dataTable['output_type'] = 'display_data';\n",
       "          await google.colab.output.renderOutput(dataTable, element);\n",
       "          const docLink = document.createElement('div');\n",
       "          docLink.innerHTML = docLinkHtml;\n",
       "          element.appendChild(docLink);\n",
       "        }\n",
       "      </script>\n",
       "    </div>\n",
       "  </div>\n",
       "  "
      ],
      "text/plain": [
       "         date  \\\n",
       "0  2017-02-07   \n",
       "1  2019-12-31   \n",
       "2  2022-03-09   \n",
       "3  2017-07-04   \n",
       "4  2018-03-13   \n",
       "\n",
       "                                                                                           clean_title  \\\n",
       "0  SAP NS2’s Mark Testoni: AI Could Help Prevent Cyber Attacks Through Threat Classification | Exec...   \n",
       "1                       A Decade Of Advancements As We Enter A New Age Of AI - Business Quick Magazine   \n",
       "2                                     Gender Bias in Artificial Intelligence | Business News This Week   \n",
       "3                               Big pharma turns to AI to speed drug discovery, GSK signs deal | 路透中文网   \n",
       "4                               Amazon HQ2 Winner May Be Boston, Says Wells Fargo AI Program | Fortune   \n",
       "\n",
       "                                                                                            clean_text  \\\n",
       "0   SAP NS2’s Mark Testoni: AI Could Help Prevent Cyber Attacks Through Threat Classification  Exec...   \n",
       "1  A Decade Of Advancements As We Enter A New Age Of AI - Business Quick Magazine HomeBusinessTechn...   \n",
       "2  Gender Bias in Artificial Intelligence  Business News This WeekBusiness News [ March 9, 2022 ] Z...   \n",
       "3  Big pharma turns to AI to speed drug discovery, GSK signs deal  路透中文网Discover Thomson ReutersFin...   \n",
       "4  Amazon HQ2 Winner May Be Boston, Says Wells Fargo AI Program  Fortune Wells Fargo's AI Computer ...   \n",
       "\n",
       "   length  \n",
       "0     660  \n",
       "1    1455  \n",
       "2    1253  \n",
       "3     712  \n",
       "4     728  "
      ]
     },
     "execution_count": 41,
     "metadata": {},
     "output_type": "execute_result"
    }
   ],
   "source": [
    "df_count.head()"
   ]
  },
  {
   "cell_type": "code",
   "execution_count": null,
   "metadata": {
    "id": "hRrgtbvzj7mx"
   },
   "outputs": [],
   "source": []
  }
 ],
 "metadata": {
  "colab": {
   "machine_shape": "hm",
   "provenance": []
  },
  "gpuClass": "premium",
  "kernelspec": {
   "display_name": "Python 3 (ipykernel)",
   "language": "python",
   "name": "python3"
  },
  "language_info": {
   "codemirror_mode": {
    "name": "ipython",
    "version": 3
   },
   "file_extension": ".py",
   "mimetype": "text/x-python",
   "name": "python",
   "nbconvert_exporter": "python",
   "pygments_lexer": "ipython3",
   "version": "3.9.12"
  }
 },
 "nbformat": 4,
 "nbformat_minor": 1
}
